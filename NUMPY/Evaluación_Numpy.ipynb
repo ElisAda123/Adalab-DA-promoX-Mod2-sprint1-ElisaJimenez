{
 "cells": [
  {
   "attachments": {},
   "cell_type": "markdown",
   "metadata": {},
   "source": [
    "## Ejercicios de NumPy"
   ]
  },
  {
   "attachments": {},
   "cell_type": "markdown",
   "metadata": {},
   "source": [
    "1. Importa la librería de NumPy."
   ]
  },
  {
   "cell_type": "code",
   "execution_count": 1,
   "metadata": {},
   "outputs": [],
   "source": [
    "import numpy as np"
   ]
  },
  {
   "attachments": {},
   "cell_type": "markdown",
   "metadata": {},
   "source": [
    "2. Crea un array de 1 dimension y 10 elementos."
   ]
  },
  {
   "cell_type": "code",
   "execution_count": 3,
   "metadata": {},
   "outputs": [
    {
     "data": {
      "text/plain": [
       "array([60, 79, 84, 67, 71, 91, 71,  2, 20, 52])"
      ]
     },
     "execution_count": 3,
     "metadata": {},
     "output_type": "execute_result"
    }
   ],
   "source": [
    "array = np.random.randint(0,100, (10))\n",
    "array"
   ]
  },
  {
   "attachments": {},
   "cell_type": "markdown",
   "metadata": {},
   "source": [
    "3. Reemplaza todos los números impares por el valor \"par\" y los pares por \"par\". Para hacer esto os tendréis que crear un array nuevo donde vayáis añadiendo los valores nuevos."
   ]
  },
  {
   "cell_type": "code",
   "execution_count": 9,
   "metadata": {},
   "outputs": [],
   "source": [
    "## entiendo que en el enunciado pedís que los impares los sustituyamos por el valor \"impar\" y los pares por \"par\" por lo que lo voy a hacer de esta manera:"
   ]
  },
  {
   "cell_type": "code",
   "execution_count": 27,
   "metadata": {},
   "outputs": [
    {
     "data": {
      "text/plain": [
       "array(['par', 'impar', 'par', 'impar', 'impar', 'impar', 'impar', 'par',\n",
       "       'par', 'par'], dtype='<U5')"
      ]
     },
     "execution_count": 27,
     "metadata": {},
     "output_type": "execute_result"
    }
   ],
   "source": [
    "array_vacio = np.where(array % 2 == 0, \"par\", \"impar\")\n",
    "array_vacio"
   ]
  },
  {
   "attachments": {},
   "cell_type": "markdown",
   "metadata": {},
   "source": [
    "4. Cambiad la forma del array del ejercicio 3 a un array de 2 filas y 5 columnas."
   ]
  },
  {
   "cell_type": "code",
   "execution_count": 29,
   "metadata": {},
   "outputs": [
    {
     "data": {
      "text/plain": [
       "array([['par', 'impar', 'par', 'impar', 'impar'],\n",
       "       ['impar', 'impar', 'par', 'par', 'par']], dtype='<U5')"
      ]
     },
     "execution_count": 29,
     "metadata": {},
     "output_type": "execute_result"
    }
   ],
   "source": [
    "array_vacio.reshape(2, 5)"
   ]
  },
  {
   "attachments": {},
   "cell_type": "markdown",
   "metadata": {},
   "source": [
    "5. Extrae los elementos comunes de los siguientes arrays"
   ]
  },
  {
   "cell_type": "code",
   "execution_count": 39,
   "metadata": {},
   "outputs": [],
   "source": [
    "array1 = np.array([1,2,3,2,3,4,3,4,5,6])\n",
    "array2 = np.array([7,2,10,2,7,4,9,4,9,8])"
   ]
  },
  {
   "cell_type": "code",
   "execution_count": 40,
   "metadata": {},
   "outputs": [
    {
     "data": {
      "text/plain": [
       "array([2, 4])"
      ]
     },
     "execution_count": 40,
     "metadata": {},
     "output_type": "execute_result"
    }
   ],
   "source": [
    "np.intersect1d(array1, array2)"
   ]
  },
  {
   "attachments": {},
   "cell_type": "markdown",
   "metadata": {},
   "source": [
    "6. Extraed los elementos que están en el array1 pero no en el array2."
   ]
  },
  {
   "cell_type": "code",
   "execution_count": 42,
   "metadata": {},
   "outputs": [
    {
     "data": {
      "text/plain": [
       "array([1, 3, 5, 6])"
      ]
     },
     "execution_count": 42,
     "metadata": {},
     "output_type": "execute_result"
    }
   ],
   "source": [
    "np.setdiff1d(array1, array2)"
   ]
  },
  {
   "attachments": {},
   "cell_type": "markdown",
   "metadata": {},
   "source": [
    "7. Extraed las posiciones donde tengamos elementos que sean iguales."
   ]
  },
  {
   "cell_type": "code",
   "execution_count": 45,
   "metadata": {},
   "outputs": [
    {
     "data": {
      "text/plain": [
       "(array([2, 4]), array([1, 5]), array([1, 5]))"
      ]
     },
     "execution_count": 45,
     "metadata": {},
     "output_type": "execute_result"
    }
   ],
   "source": [
    "array1 = np.array([1,2,3,2,3,4,3,4,5,6])\n",
    "array2 = np.array([7,2,10,2,7,4,9,4,9,8])\n",
    "\n",
    "array_comunes = np.intersect1d(array1, array2, return_indices=True)\n",
    "array_comunes\n",
    "\n",
    "\n",
    "# los elementos comunes son el 2 y el 4. Los número siguientes(1 y 5) corresponden a las posiciones en el primer array,\n",
    "# los siguientes 1 y 5 corresponden a las posiciones del segundo array.\n",
    "# el problema es que solo nos saca las primeras posiciones qu ha encontrado"
   ]
  },
  {
   "cell_type": "code",
   "execution_count": 56,
   "metadata": {},
   "outputs": [
    {
     "name": "stdout",
     "output_type": "stream",
     "text": [
      "(array([1, 3]),)\n",
      "(array([5, 7]),)\n"
     ]
    }
   ],
   "source": [
    "# con el np.where sacamos las posiciones 2 y 4 en el array 1\n",
    "indices2_array1 = np.where(array1 == 2)\n",
    "indices4_array1 = np.where(array1 == 4)\n",
    "\n",
    "print(indices2_array1)\n",
    "print(indices4_array1)\n"
   ]
  },
  {
   "cell_type": "code",
   "execution_count": 57,
   "metadata": {},
   "outputs": [
    {
     "name": "stdout",
     "output_type": "stream",
     "text": [
      "(array([1, 3]),)\n",
      "(array([5, 7]),)\n"
     ]
    }
   ],
   "source": [
    "# volvemos a sacar todas las posiciones del array 2\n",
    "indices2_array2 = np.where(array2 == 2)\n",
    "indices4_array2 = np.where(array2 == 4)\n",
    "\n",
    "print(indices2_array2)\n",
    "print(indices4_array2)"
   ]
  },
  {
   "attachments": {},
   "cell_type": "markdown",
   "metadata": {},
   "source": [
    "8. Cread un array de 3 filas y 5 columnas, con números enteros del 0 al 50. Una vez creado, extrae los valores que sean menores que 10 y mayores que 40."
   ]
  },
  {
   "cell_type": "code",
   "execution_count": 59,
   "metadata": {},
   "outputs": [
    {
     "data": {
      "text/plain": [
       "array([[ 8, 46,  0, 30, 34],\n",
       "       [20, 39,  5, 38, 40],\n",
       "       [46, 20,  2, 10, 18]])"
      ]
     },
     "execution_count": 59,
     "metadata": {},
     "output_type": "execute_result"
    }
   ],
   "source": [
    "array8 = np.random.randint(0,50, (3,5))\n",
    "array8"
   ]
  },
  {
   "cell_type": "code",
   "execution_count": 71,
   "metadata": {},
   "outputs": [
    {
     "data": {
      "text/plain": [
       "array([8, 0, 5, 2])"
      ]
     },
     "execution_count": 71,
     "metadata": {},
     "output_type": "execute_result"
    }
   ],
   "source": [
    "\n",
    "array8[array8 < 10]"
   ]
  },
  {
   "cell_type": "code",
   "execution_count": 72,
   "metadata": {},
   "outputs": [
    {
     "data": {
      "text/plain": [
       "array([46, 46])"
      ]
     },
     "execution_count": 72,
     "metadata": {},
     "output_type": "execute_result"
    }
   ],
   "source": [
    "array8[array8 > 40]"
   ]
  },
  {
   "attachments": {},
   "cell_type": "markdown",
   "metadata": {},
   "source": [
    "9. Cread un array de 5x3 con números decimales aleatorios entre el 5 y el 10."
   ]
  },
  {
   "cell_type": "code",
   "execution_count": 104,
   "metadata": {},
   "outputs": [
    {
     "data": {
      "text/plain": [
       "array([[0.19629991, 0.81005476, 0.58189933],\n",
       "       [0.91561442, 0.61645416, 0.18094774],\n",
       "       [0.43805174, 0.89782963, 0.47613061],\n",
       "       [0.4010951 , 0.6830379 , 0.09666809],\n",
       "       [0.29895757, 0.01102847, 0.21244027]])"
      ]
     },
     "execution_count": 104,
     "metadata": {},
     "output_type": "execute_result"
    }
   ],
   "source": [
    "# hemos creado un array de dimensiones 5x3 con random.rand para que nos sacara los números decimales \n",
    "array = np.random.rand(5,3)\n",
    "array"
   ]
  },
  {
   "cell_type": "code",
   "execution_count": 105,
   "metadata": {},
   "outputs": [
    {
     "data": {
      "text/plain": [
       "array([[5.98149955, 9.0502738 , 7.90949665],\n",
       "       [9.57807208, 8.08227082, 5.90473868],\n",
       "       [7.1902587 , 9.48914815, 7.38065307],\n",
       "       [7.00547549, 8.41518952, 5.48334046],\n",
       "       [6.49478786, 5.05514235, 6.06220134]])"
      ]
     },
     "execution_count": 105,
     "metadata": {},
     "output_type": "execute_result"
    }
   ],
   "source": [
    "#y hemos ajustado el intervalo entre 5 y 10 multiplicando el array x5 y sumando 5.\n",
    "array = 5 + array * 5\n",
    "array"
   ]
  },
  {
   "attachments": {},
   "cell_type": "markdown",
   "metadata": {},
   "source": [
    "10. Crea un array de tres dimensiones de 2x4x7 con números entre el 1 y el 20.\n",
    "    - Transponed el array para que tenga 4 matrices, 7 filas y 2 columnas"
   ]
  },
  {
   "cell_type": "code",
   "execution_count": 107,
   "metadata": {},
   "outputs": [
    {
     "data": {
      "text/plain": [
       "array([[[ 7, 15, 12,  7,  8,  6,  7],\n",
       "        [14, 11, 18, 10, 17,  2, 13],\n",
       "        [ 3, 10, 12,  5, 13,  9, 11],\n",
       "        [16,  1, 16, 16,  6, 13,  1]],\n",
       "\n",
       "       [[ 4,  9, 16, 11,  1, 11,  7],\n",
       "        [12,  3,  3, 13, 17,  3, 11],\n",
       "        [10,  3, 17,  1, 19,  6,  2],\n",
       "        [16, 19, 11,  6, 12, 19,  3]]])"
      ]
     },
     "execution_count": 107,
     "metadata": {},
     "output_type": "execute_result"
    }
   ],
   "source": [
    "\n",
    "array_tridimensional = np.random.randint(1,20, (2,4,7))\n",
    "array_tridimensional"
   ]
  },
  {
   "cell_type": "code",
   "execution_count": 110,
   "metadata": {},
   "outputs": [
    {
     "data": {
      "text/plain": [
       "array([[[ 7,  4],\n",
       "        [15,  9],\n",
       "        [12, 16],\n",
       "        [ 7, 11],\n",
       "        [ 8,  1],\n",
       "        [ 6, 11],\n",
       "        [ 7,  7]],\n",
       "\n",
       "       [[14, 12],\n",
       "        [11,  3],\n",
       "        [18,  3],\n",
       "        [10, 13],\n",
       "        [17, 17],\n",
       "        [ 2,  3],\n",
       "        [13, 11]],\n",
       "\n",
       "       [[ 3, 10],\n",
       "        [10,  3],\n",
       "        [12, 17],\n",
       "        [ 5,  1],\n",
       "        [13, 19],\n",
       "        [ 9,  6],\n",
       "        [11,  2]],\n",
       "\n",
       "       [[16, 16],\n",
       "        [ 1, 19],\n",
       "        [16, 11],\n",
       "        [16,  6],\n",
       "        [ 6, 12],\n",
       "        [13, 19],\n",
       "        [ 1,  3]]])"
      ]
     },
     "execution_count": 110,
     "metadata": {},
     "output_type": "execute_result"
    }
   ],
   "source": [
    "np.transpose(array_tridimensional, (1,2,0))"
   ]
  }
 ],
 "metadata": {
  "kernelspec": {
   "display_name": "base",
   "language": "python",
   "name": "python3"
  },
  "language_info": {
   "codemirror_mode": {
    "name": "ipython",
    "version": 3
   },
   "file_extension": ".py",
   "mimetype": "text/x-python",
   "name": "python",
   "nbconvert_exporter": "python",
   "pygments_lexer": "ipython3",
   "version": "3.9.7"
  },
  "orig_nbformat": 4
 },
 "nbformat": 4,
 "nbformat_minor": 2
}
